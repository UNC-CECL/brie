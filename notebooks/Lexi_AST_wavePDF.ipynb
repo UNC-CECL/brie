{
 "cells": [
  {
   "cell_type": "markdown",
   "id": "d075ef49",
   "metadata": {},
   "source": [
    "## This Notebook is for determining wave pdfs for alongshore transport, to ensure that the AST module matches the master"
   ]
  },
  {
   "cell_type": "code",
   "execution_count": 1,
   "id": "13514618",
   "metadata": {},
   "source": [
    "import os\n",
    "import numpy as np\n",
    "import sys\n",
    "import scipy \n",
    "from scipy.interpolate import interp1d\n",
    "import matplotlib.pyplot as plt\n",
    "import pytest\n",
    "sys.path.append(\"..\")"
   ],
   "outputs": []
  },
  {
   "cell_type": "code",
   "execution_count": 2,
   "id": "98b1dedf",
   "metadata": {},
   "source": [
    "os.getcwd()"
   ],
   "outputs": []
  },
  {
   "cell_type": "code",
   "execution_count": 3,
   "id": "07310bad",
   "metadata": {},
   "source": [
    "# os.chdir(\"..\\\\brie\")\n",
    "# path=os.getcwd()\n",
    "# os.listdir(path)"
   ],
   "outputs": []
  },
  {
   "cell_type": "code",
   "execution_count": 4,
   "id": "bedb6f7f",
   "metadata": {},
   "source": [
    "from brie.brie import Brie\n",
    "from brie.lexi_brie import Lexi_Brie\n",
    "from brie.alongshore_transporter import AlongshoreTransporter"
   ],
   "outputs": []
  },
  {
   "cell_type": "markdown",
   "id": "6574b68b",
   "metadata": {},
   "source": [
    "We are going to initialize the classes with shoreline positions and wave angles (\"seeding\"). There are 2 brie classes, the original Master Brie (brie) and the modified Brie (lexi_brie). There is currently only one alongshore transporter class"
   ]
  },
  {
   "cell_type": "code",
   "execution_count": 5,
   "id": "2c7af28b",
   "metadata": {},
   "source": [
    "# initializing the brie and ast classes with shorelines and wave angles\n",
    "xs=np.asarray([0, 0, 0, 100, 100, 100, 200, 200, 200, 300, 300, 300, 200, 200, 200, 100, 100, 100, 0, 0, 0])\n",
    "wave_angle=np.asarray([45, 45, 45, 45, 45, 45, 45, 45, 45, 45, 45, 45, 45, 45, 45, 45, 45, 45, 45, 45, 45])\n",
    "brie = Brie(inlet_model=False, bseed=True, alongshore_section_count=21, xs=xs, wave_angle=wave_angle)\n",
    "lexi_brie = Lexi_Brie(inlet_model=False, bseed=True, alongshore_section_count=21, xs=xs, wave_angle=wave_angle)\n",
    "transporter = AlongshoreTransporter(shoreline_x=xs,  wave_distribution=lexi_brie._wave_dist)"
   ],
   "outputs": []
  },
  {
   "cell_type": "markdown",
   "id": "6e9da107",
   "metadata": {},
   "source": [
    "Once the classes have been initialized, we are going to compare sections of their current code for ast. There are discrepancies between the wave pdfs that we will explore here, starting with the wave angles and steps. \n",
    "\n",
    "<div class=\"alert alert-block alert-info\"><b>NOTE:</b> master brie is in degrees, whereas AST is in radians.</div>"
   ]
  },
  {
   "cell_type": "code",
   "execution_count": 6,
   "id": "4fcbeced",
   "metadata": {},
   "source": [
    "# master code\n",
    "master_angle_array, m_step = np.linspace(-90.0, 90.0, brie._wave_climl, retstep=True)\n",
    "print(\"shape of master angles:\", np.shape(master_angle_array))\n",
    "\n",
    "# alongshore transporter code\n",
    "n_bins = 181\n",
    "all_angles, step = np.linspace(-np.pi / 2.0, np.pi / 2.0, n_bins, retstep=True)\n",
    "print(\"shape of ast angles:\", np.shape(all_angles))\n",
    "print(\"master step:\", m_step, \" degrees\")\n",
    "print(\"ast step:\", np.rad2deg(step), \" degrees\")"
   ],
   "outputs": []
  },
  {
   "cell_type": "markdown",
   "id": "4a674149",
   "metadata": {},
   "source": [
    "Immediately, we see that there are differences in the wave angles and steps. The master brie file does not use 1 degree angle steps, whereas the ast model does. This is determined by the bin size, which is 180 in the master and 181 in AST. If we change the ast model to reflect the master, we get:"
   ]
  },
  {
   "cell_type": "code",
   "execution_count": 7,
   "id": "c1a6c3d2",
   "metadata": {},
   "source": [
    "# using 180 bins instead for ast \n",
    "# alongshore transporter code\n",
    "n_bins = 180\n",
    "all_angles_180, step_180 = np.linspace(-np.pi / 2.0, np.pi / 2.0, n_bins, retstep=True) # radians \n",
    "print(\"shape of ast angles:\", np.shape(all_angles_180))\n",
    "print(\"master step:\", m_step, \" degrees\")\n",
    "print(\"ast step:\", np.rad2deg(step_180), \" degrees\")\n",
    "if master_angle_array == pytest.approx(np.rad2deg(all_angles_180)) and m_step == pytest.approx(np.rad2deg(step_180)):\n",
    "    print(\"True\")\n",
    "else:\n",
    "    print(\"False\")"
   ],
   "outputs": []
  },
  {
   "cell_type": "markdown",
   "id": "66646fda",
   "metadata": {},
   "source": [
    "Now the angle arrays and steps are approximately equal. Moving forward through the code, we are looking for wave pdfs. In the master code, this comes from Wave Angle Generator, but both the master code and ast model use the same .pdf function. The pdf function requires an input of wave angle or angles. It then returns the value for `self._wave_pdf()` at that angle. `self._wave_pdf` is defined using the SciPy interpolate 1D function (interp1d). It takes an x and y, which in this case, `x = np.deg2rad(np.array([-90.0, -45.0, 0.0, 45.0, 90]))` and f is defined (kind of) from eqn 25 in Nienhuis and Lorenzo-Trueba 2019. Interp1d also takes the kind of interpolation, which is specified as \"next\" in this case. So basically, it returns a coninuous line/function based on the points given. Therefore, when we call `.pdf(angle)` we are really calling `self._wave_pdf(angle)`"
   ]
  },
  {
   "cell_type": "code",
   "execution_count": 8,
   "id": "8f7a1078",
   "metadata": {},
   "source": [
    "from brie.waves import WaveAngleGenerator"
   ],
   "outputs": []
  },
  {
   "cell_type": "code",
   "execution_count": 9,
   "id": "6f72acc6",
   "metadata": {},
   "source": [
    "asymmetry=brie._wave_asym\n",
    "high_fraction=brie._wave_high\n",
    "print(\"asymmetry is:\", brie._wave_asym)\n",
    "print(\"fraction of high waves is:\", brie._wave_high)\n",
    "x = np.deg2rad(np.array([-90.0, -45.0, 0.0, 45.0, 90]))\n",
    "f = (\n",
    "    np.array(\n",
    "        [\n",
    "            0.0,\n",
    "            asymmetry * high_fraction,\n",
    "            asymmetry * (1.0 - high_fraction),\n",
    "            (1.0 - asymmetry) * (1.0 - high_fraction),\n",
    "            (1.0 - asymmetry) * high_fraction,\n",
    "        ]\n",
    "    )\n",
    "    * 4.0\n",
    "    / np.pi\n",
    ")\n",
    "print(\"x array:\", x)\n",
    "print(\"f array:\", f)\n",
    "full_wave_pdf = interp1d(x, f, kind=\"next\", bounds_error=False, fill_value=0.0)\n",
    "type(full_wave_pdf)\n",
    "# plt.plot(full_wave_pdf)"
   ],
   "outputs": []
  },
  {
   "cell_type": "markdown",
   "id": "e7eedcd8",
   "metadata": {},
   "source": [
    "That was essentially all the behind the scenes setup of what is occuring when we perform the next calcs. In the Master Brie file, our angles of interest come from WaveAngleGenerator. In order to access the angles, you must use angles.next() which I think is why \"next\" is the type of interpolation performed. Again, we take the `master_angle_array`, and put it into the pdf function. This means we are just getting the value from the interpolated full wave pdf (above) at each of the angles form master_angle_array. I think when we call angles.pdf, this is allowing us to access the angles generated. (what do they actually correlate to?)"
   ]
  },
  {
   "cell_type": "markdown",
   "id": "a5ac9fca",
   "metadata": {},
   "source": [
    "<div class=\"alert alert-block alert-danger\"><b>WARNING:</b> Re-running the following code will update/change the variables (master_wave_pdf specifically).</div>"
   ]
  },
  {
   "cell_type": "code",
   "execution_count": 10,
   "id": "05419bfa",
   "metadata": {},
   "source": [
    "angles = WaveAngleGenerator(asymmetry=brie._wave_asym, high_fraction=brie._wave_high)\n",
    "master_angle_array = np.deg2rad(master_angle_array)\n",
    "m_step = np.deg2rad(m_step)\n",
    "master_wave_pdf = angles.pdf(master_angle_array) * m_step  # wave climate pdf, needs input in radians\n",
    "plt.plot(master_wave_pdf)"
   ],
   "outputs": []
  },
  {
   "cell_type": "markdown",
   "id": "4f489ce8",
   "metadata": {},
   "source": [
    "Now lets take a look at lexi_brie/AST module. We start by setting teh wave distribution, which is based on the ashton function from WaveAngleGenerator. The distribution coming from the ashton function should be the same as the `angles` variable from the WaveAngleGenerator (?)"
   ]
  },
  {
   "cell_type": "code",
   "execution_count": 11,
   "id": "21482059",
   "metadata": {},
   "source": [
    "from brie.waves import ashton"
   ],
   "outputs": []
  },
  {
   "cell_type": "code",
   "execution_count": 12,
   "id": "0d530030",
   "metadata": {},
   "source": [
    "asymmetry=lexi_brie._wave_asym\n",
    "high_fraction=lexi_brie._wave_high\n",
    "print(\"asymmetry is:\", brie._wave_asym)\n",
    "print(\"fraction of high waves is:\", brie._wave_high)\n",
    "wave_dist = ashton(a=asymmetry, h=high_fraction, loc=-np.pi / 2, scale=np.pi)\n",
    "type(wave_dist)"
   ],
   "outputs": []
  },
  {
   "cell_type": "markdown",
   "id": "30521e64",
   "metadata": {},
   "source": [
    "Is there a way to test the comparison of wave_dist and angles??\n",
    "\n",
    "This `wave_dist` variable then gets initialized into alongshore transporter as the `wave_distribution` variable and ultimately to `self._wave_distribution`. Nothing else happens until we call `lexi_brie.update()`. When we do that, and the ast_model_on is True, we update the ast module by one time step. This starts with calling the `build_matrix()` function, inputting the `self._wave_distribution` as wave_distribution (back to that variable name) along with other variables. From the build matrix function, the `calc_coast_diffusivity()` function is called which takes the PDF wave distribution and shoreline angles (wave_distribution.pdf). \n",
    "\n",
    "Long story short: we use wave_dist.pdf (should be the same as angles.pdf from Master (?)\n",
    "(not exactly sure why we do this first instead of combining with wave_dist.pdf(all_angles) * step"
   ]
  },
  {
   "cell_type": "code",
   "execution_count": 13,
   "id": "e6c66704",
   "metadata": {},
   "source": [
    "ast_wave_pdf = wave_dist.pdf"
   ],
   "outputs": []
  },
  {
   "cell_type": "markdown",
   "id": "1b574e2c",
   "metadata": {},
   "source": [
    "Then, we perform similar calcs to the master brie. we already know from cell 7 that to get the same angles used in master_angle_array, that we need 180 bins instead of 181. "
   ]
  },
  {
   "cell_type": "code",
   "execution_count": 14,
   "id": "2208e761",
   "metadata": {},
   "source": [
    "# same code from cell 7 above\n",
    "n_bins = 180\n",
    "all_angles_180, step_180 = np.linspace(-np.pi / 2.0, np.pi / 2.0, n_bins, retstep=True) # radians \n",
    "# same as master_wave_pdf:\n",
    "e_phi_0 = ast_wave_pdf(all_angles) * step  \n",
    "plt.plot(e_phi_0)"
   ],
   "outputs": []
  },
  {
   "cell_type": "markdown",
   "id": "9d761338",
   "metadata": {},
   "source": [
    "We can immediately see that there is a slight difference in this wave pdf (it does not start at 0), although the actual function should be the same (?). We know that the angles match based on the first analysis done in cell 7. So this means that wave_dist.pdf does not equal angle.pdf."
   ]
  },
  {
   "cell_type": "markdown",
   "id": "b95c069a",
   "metadata": {},
   "source": [
    "<!-- The shoreline angles come from the `calc_shoreline_angles()` function, which takes inputs shoreline position and dy spacing. In our given shoreline positions, they steadily increase then decrease. Whenever there is a change in position (e.g. from 0 to 100), there is a non-zero angle.  -->"
   ]
  },
  {
   "cell_type": "code",
   "execution_count": 15,
   "id": "1a51a6c0",
   "metadata": {},
   "source": [
    "# note to self: think I accidentally deleted the cell above this one\n",
    "\n",
    "# from brie.alongshore_transporter import calc_shoreline_angles\n",
    "# shoreline_angles = calc_shoreline_angles(xs, spacing=lexi_brie._dy)\n",
    "\n",
    "# fig, ax1 = plt.subplots() \n",
    "# ax1.set_xlabel('X-axis') \n",
    "# ax1.set_ylabel('shoreline position', color = 'red') \n",
    "# ax1.plot(xs, color = 'red') \n",
    "# ax1.tick_params(axis ='y', labelcolor = 'red') \n",
    "# # Adding Twin Axes\n",
    "# ax2 = ax1.twinx() \n",
    "# ax2.set_ylabel('shoreline angles (radians)', color = 'blue') \n",
    "# ax2.plot(shoreline_angles, color = 'blue') \n",
    "# ax2.tick_params(axis ='y', labelcolor = 'blue') \n",
    "# # Show plot\n",
    "# plt.show()"
   ],
   "outputs": []
  },
  {
   "cell_type": "markdown",
   "id": "7d116e2c",
   "metadata": {},
   "source": [
    "# tests for waves (from katherine)"
   ]
  },
  {
   "cell_type": "markdown",
   "id": "b2c42199",
   "metadata": {},
   "source": [
    "At the end of `test_wave_generator.py` there is a function for testing ashton to WaveAngleGenerator. "
   ]
  },
  {
   "cell_type": "code",
   "execution_count": 16,
   "id": "5dd8cabb",
   "metadata": {},
   "source": [
    "test_angle_array, test_step = np.linspace(-89.5, 89.5, 180, retstep=True)\n",
    "dist = ashton(a=0.8, h=0.2, loc=-90, scale=180)\n",
    "ashton_pdf = dist.pdf(test_angle_array) * test_step\n",
    "waves = WaveAngleGenerator(asymmetry=0.8, high_fraction=0.2)\n",
    "waves_pdf = waves.pdf(np.deg2rad(test_angle_array)) * np.deg2rad(test_step)\n",
    "if waves_pdf == pytest.approx(ashton_pdf):\n",
    "    print(\"True\")\n",
    "else:\n",
    "    print(\"False\")\n",
    "\n",
    "plt.plot(ashton_pdf)\n",
    "plt.plot(waves_pdf, linestyle='dashed')"
   ],
   "outputs": []
  },
  {
   "cell_type": "markdown",
   "id": "defea13e",
   "metadata": {},
   "source": [
    "When we used that specific angle array, the pdfs match, but based on the original code, we need to wave angles to be between -90 and 90, so the next cell shows that when we use that range of angles, they no longer match"
   ]
  },
  {
   "cell_type": "code",
   "execution_count": 17,
   "id": "5757daac",
   "metadata": {},
   "source": [
    "test_angle_array, test_step = np.linspace(-90, 90, 180, retstep=True)\n",
    "dist = ashton(a=0.8, h=0.2, loc=-90, scale=180)  # do we need to change this scale??\n",
    "ashton_pdf = dist.pdf(test_angle_array) * test_step\n",
    "waves = WaveAngleGenerator(asymmetry=0.8, high_fraction=0.2)\n",
    "waves_pdf = waves.pdf(np.deg2rad(test_angle_array)) * np.deg2rad(test_step)\n",
    "if waves_pdf == pytest.approx(ashton_pdf):\n",
    "    print(\"True\")\n",
    "else:\n",
    "    print(\"False\")\n",
    "\n",
    "plt.plot(ashton_pdf)\n",
    "plt.plot(waves_pdf, linestyle='dashed')"
   ],
   "outputs": []
  },
  {
   "cell_type": "markdown",
   "id": "c96d46c6",
   "metadata": {},
   "source": [
    "Do we want to just force the first value in the ashton_pdf to be 0?"
   ]
  },
  {
   "cell_type": "code",
   "execution_count": 18,
   "id": "69834802",
   "metadata": {},
   "source": [
    "test_angle_array, test_step = np.linspace(-90, 90, 180, retstep=True)\n",
    "dist = ashton(a=0.8, h=0.2, loc=-90, scale=180)  # do we need to change this scale??\n",
    "ashton_pdf = dist.pdf(test_angle_array) * test_step\n",
    "waves = WaveAngleGenerator(asymmetry=0.8, high_fraction=0.2)\n",
    "waves_pdf = waves.pdf(np.deg2rad(test_angle_array)) * np.deg2rad(test_step)\n",
    "ashton_pdf[0] = 0\n",
    "if waves_pdf == pytest.approx(ashton_pdf):\n",
    "    print(\"True\")\n",
    "else:\n",
    "    print(\"False\")\n",
    "    \n",
    "plt.plot(ashton_pdf)\n",
    "plt.plot(waves_pdf, linestyle='dashed')"
   ],
   "outputs": []
  },
  {
   "cell_type": "markdown",
   "id": "3c960382",
   "metadata": {},
   "source": [
    "Need to look into what is happening behind the scenes of WaveAngleGenerator and Ashton: JUST THE BOUNDS"
   ]
  }
 ],
 "metadata": {
  "kernelspec": {
   "display_name": "Python 3 (ipykernel)",
   "language": "python",
   "name": "python3"
  },
  "language_info": {
   "codemirror_mode": {
    "name": "ipython",
    "version": 3
   },
   "file_extension": ".py",
   "mimetype": "text/x-python",
   "name": "python",
   "nbconvert_exporter": "python",
   "pygments_lexer": "ipython3",
   "version": "3.8.8"
  }
 },
 "nbformat": 4,
 "nbformat_minor": 5
}
