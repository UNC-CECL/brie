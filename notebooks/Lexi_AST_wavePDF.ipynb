{
 "cells": [
  {
   "cell_type": "code",
   "execution_count": 1,
   "id": "13514618",
   "metadata": {},
   "outputs": [],
   "source": [
    "import os\n",
    "import numpy as np\n",
    "import sys\n",
    "import scipy \n",
    "import matplotlib.pyplot as plt\n",
    "import pytest\n",
    "sys.path.append(\"..\")"
   ]
  },
  {
   "cell_type": "code",
   "execution_count": 2,
   "id": "98b1dedf",
   "metadata": {},
   "outputs": [
    {
     "data": {
      "text/plain": [
       "'C:\\\\Users\\\\Lexi\\\\PycharmProjects\\\\brie\\\\notebooks'"
      ]
     },
     "execution_count": 2,
     "metadata": {},
     "output_type": "execute_result"
    }
   ],
   "source": [
    "os.getcwd()"
   ]
  },
  {
   "cell_type": "code",
   "execution_count": 3,
   "id": "07310bad",
   "metadata": {},
   "outputs": [],
   "source": [
    "# os.chdir(\"..\\\\brie\")\n",
    "# path=os.getcwd()\n",
    "# os.listdir(path)"
   ]
  },
  {
   "cell_type": "code",
   "execution_count": 4,
   "id": "bedb6f7f",
   "metadata": {},
   "outputs": [],
   "source": [
    "from brie.brie import Brie\n",
    "from brie.lexi_brie import Lexi_Brie\n",
    "from brie.alongshore_transporter import AlongshoreTransporter"
   ]
  },
  {
   "cell_type": "code",
   "execution_count": 5,
   "id": "2c7af28b",
   "metadata": {},
   "outputs": [],
   "source": [
    "xs=np.asarray([0, 0, 0, 100, 100, 100, 200, 200, 200, 300, 300, 300, 200, 200, 200, 100, 100, 100, 0, 0, 0])\n",
    "wave_angle=np.asarray([45, 45, 45, 45, 45, 45, 45, 45, 45, 45, 45, 45, 45, 45, 45, 45, 45, 45, 45, 45, 45])\n",
    "brie = Brie(inlet_model=False, bseed=True, alongshore_section_count=21, xs=xs, wave_angle=wave_angle)\n",
    "lexi_brie = Lexi_Brie(inlet_model=False, bseed=True, alongshore_section_count=21, xs=xs, wave_angle=wave_angle)\n",
    "transporter = AlongshoreTransporter(shoreline_x=xs,  wave_distribution=lexi_brie._wave_dist)"
   ]
  },
  {
   "cell_type": "code",
   "execution_count": 6,
   "id": "4fcbeced",
   "metadata": {},
   "outputs": [],
   "source": [
    "# master code\n",
    "_, m_step = np.linspace(-90.0, 90.0, brie._wave_climl, retstep=True)\n",
    "master_pdf = brie._angles.pdf(brie._angle_array) * np.deg2rad(m_step)"
   ]
  },
  {
   "cell_type": "code",
   "execution_count": 7,
   "id": "8c3a9f6e",
   "metadata": {},
   "outputs": [],
   "source": [
    "# alongshore transporter code\n",
    "wave_pdf = lexi_brie._wave_dist.pdf\n",
    "n_bins = 181\n",
    "all_angles, step = np.linspace(-np.pi / 2.0, np.pi / 2.0, n_bins, retstep=True)\n",
    "ast_pdf = wave_pdf(all_angles) * step"
   ]
  },
  {
   "cell_type": "code",
   "execution_count": 8,
   "id": "21482059",
   "metadata": {},
   "outputs": [
    {
     "name": "stdout",
     "output_type": "stream",
     "text": [
      "m_step: 1.005586592178771  degrees\n",
      "lexi_step: 1.0  degrees\n"
     ]
    },
    {
     "data": {
      "text/plain": [
       "[<matplotlib.lines.Line2D at 0x2bea5b84c10>]"
      ]
     },
     "execution_count": 8,
     "metadata": {},
     "output_type": "execute_result"
    },
    {
     "data": {
      "image/png": "[encoded data removed]",
      "text/plain": [
       "<Figure size 432x288 with 1 Axes>"
      ]
     },
     "metadata": {
      "needs_background": "light"
     },
     "output_type": "display_data"
    }
   ],
   "source": [
    "print(\"m_step:\", m_step, \" degrees\")\n",
    "print(\"lexi_step:\", step*180/np.pi, \" degrees\")\n",
    "# print(master_pdf-ast_pdf)\n",
    "plt.plot(master_pdf)\n",
    "plt.plot(ast_pdf, linestyle=\"dashed\")"
   ]
  },
  {
   "cell_type": "code",
   "execution_count": 9,
   "id": "c1a6c3d2",
   "metadata": {},
   "outputs": [
    {
     "name": "stdout",
     "output_type": "stream",
     "text": [
      "m_step: 1.005586592178771  degrees\n",
      "l_step: 1.005586592178771  degrees\n",
      "[-0.00358  0.       0.       0.       0.       0.       0.       0.\n",
      "  0.       0.       0.       0.       0.       0.       0.       0.\n",
      "  0.       0.       0.       0.       0.       0.       0.       0.\n",
      "  0.       0.       0.       0.       0.       0.       0.       0.\n",
      "  0.       0.       0.       0.       0.       0.       0.       0.\n",
      "  0.       0.       0.       0.       0.       0.       0.       0.\n",
      "  0.       0.       0.       0.       0.       0.       0.       0.\n",
      "  0.       0.       0.       0.       0.       0.       0.       0.\n",
      "  0.       0.       0.       0.       0.       0.       0.       0.\n",
      "  0.       0.       0.       0.       0.       0.       0.       0.\n",
      "  0.       0.       0.       0.       0.       0.       0.       0.\n",
      "  0.       0.       0.       0.       0.       0.       0.       0.\n",
      "  0.       0.       0.       0.       0.       0.       0.       0.\n",
      "  0.       0.       0.       0.       0.       0.       0.       0.\n",
      "  0.       0.       0.       0.       0.       0.       0.       0.\n",
      "  0.       0.       0.       0.       0.       0.       0.       0.\n",
      "  0.       0.       0.       0.       0.       0.       0.       0.\n",
      "  0.       0.       0.       0.       0.       0.       0.       0.\n",
      "  0.       0.       0.       0.       0.       0.       0.       0.\n",
      "  0.       0.       0.       0.       0.       0.       0.       0.\n",
      "  0.       0.       0.       0.       0.       0.       0.       0.\n",
      "  0.       0.       0.       0.       0.       0.       0.       0.\n",
      "  0.       0.       0.       0.     ]\n"
     ]
    },
    {
     "data": {
      "text/plain": [
       "[<matplotlib.lines.Line2D at 0x2bea5c6e8e0>]"
      ]
     },
     "execution_count": 9,
     "metadata": {},
     "output_type": "execute_result"
    },
    {
     "data": {
      "image/png": "[encoded data removed]",
      "text/plain": [
       "<Figure size 432x288 with 1 Axes>"
      ]
     },
     "metadata": {
      "needs_background": "light"
     },
     "output_type": "display_data"
    }
   ],
   "source": [
    "# using 180 bins instead for ast \n",
    "wave_pdf = lexi_brie._wave_dist.pdf\n",
    "n_bins = 180\n",
    "all_angles, step = np.linspace(-np.pi / 2.0, np.pi / 2.0, n_bins, retstep=True)\n",
    "ast_pdf = wave_pdf(all_angles) * step\n",
    "print(\"m_step:\", m_step, \" degrees\")\n",
    "print(\"l_step:\", step*180/np.pi, \" degrees\")\n",
    "print(np.round(master_pdf-ast_pdf, 5))\n",
    "plt.plot(master_pdf)\n",
    "plt.plot(ast_pdf, linestyle=\"dashed\")"
   ]
  },
  {
   "cell_type": "code",
   "execution_count": 10,
   "id": "999a1296",
   "metadata": {},
   "outputs": [
    {
     "name": "stdout",
     "output_type": "stream",
     "text": [
      "m_step: 1.005586592178771  degrees\n",
      "lexi_step: 1.0  degrees\n"
     ]
    },
    {
     "data": {
      "text/plain": [
       "[<matplotlib.lines.Line2D at 0x2bea5cd5790>]"
      ]
     },
     "execution_count": 10,
     "metadata": {},
     "output_type": "execute_result"
    },
    {
     "data": {
      "image/png": "[encoded data removed]",
      "text/plain": [
       "<Figure size 432x288 with 1 Axes>"
      ]
     },
     "metadata": {
      "needs_background": "light"
     },
     "output_type": "display_data"
    }
   ],
   "source": [
    "# other ast code for calculating pdf\n",
    "all_angles2, step2 = np.linspace(-89.5, 89.5, n_bins, retstep=True)\n",
    "all_angles2 = np.deg2rad(all_angles2)\n",
    "ast_pdf2 = wave_pdf(all_angles2) * np.deg2rad(step2)\n",
    "print(\"m_step:\", m_step, \" degrees\")\n",
    "print(\"lexi_step:\", step2, \" degrees\")\n",
    "plt.plot(master_pdf)\n",
    "plt.plot(ast_pdf2, linestyle=\"dashed\")"
   ]
  },
  {
   "cell_type": "code",
   "execution_count": 11,
   "id": "5c5beeee",
   "metadata": {},
   "outputs": [
    {
     "name": "stdout",
     "output_type": "stream",
     "text": [
      "m_step: 1.005586592178771  degrees\n",
      "lexi_step: 1.0  degrees\n",
      "[-3.55555556e-03  1.98634389e-05  1.98634389e-05  1.98634389e-05\n",
      "  1.98634389e-05  1.98634389e-05  1.98634389e-05  1.98634389e-05\n",
      "  1.98634389e-05  1.98634389e-05  1.98634389e-05  1.98634389e-05\n",
      "  1.98634389e-05  1.98634389e-05  1.98634389e-05  1.98634389e-05\n",
      "  1.98634389e-05  1.98634389e-05  1.98634389e-05  1.98634389e-05\n",
      "  1.98634389e-05  1.98634389e-05  1.98634389e-05  1.98634389e-05\n",
      "  1.98634389e-05  1.98634389e-05  1.98634389e-05  1.98634389e-05\n",
      "  1.98634389e-05  1.98634389e-05  1.98634389e-05  1.98634389e-05\n",
      "  1.98634389e-05  1.98634389e-05  1.98634389e-05  1.98634389e-05\n",
      "  1.98634389e-05  1.98634389e-05  1.98634389e-05  1.98634389e-05\n",
      "  1.98634389e-05  1.98634389e-05  1.98634389e-05  1.98634389e-05\n",
      "  1.98634389e-05  7.94537554e-05  7.94537554e-05  7.94537554e-05\n",
      "  7.94537554e-05  7.94537554e-05  7.94537554e-05  7.94537554e-05\n",
      "  7.94537554e-05  7.94537554e-05  7.94537554e-05  7.94537554e-05\n",
      "  7.94537554e-05  7.94537554e-05  7.94537554e-05  7.94537554e-05\n",
      "  7.94537554e-05  7.94537554e-05  7.94537554e-05  7.94537554e-05\n",
      "  7.94537554e-05  7.94537554e-05  7.94537554e-05  7.94537554e-05\n",
      "  7.94537554e-05  7.94537554e-05  7.94537554e-05  7.94537554e-05\n",
      "  7.94537554e-05  7.94537554e-05  7.94537554e-05  7.94537554e-05\n",
      "  7.94537554e-05  7.94537554e-05  7.94537554e-05  7.94537554e-05\n",
      "  7.94537554e-05  7.94537554e-05  7.94537554e-05  7.94537554e-05\n",
      "  7.94537554e-05  7.94537554e-05  7.94537554e-05  7.94537554e-05\n",
      "  7.94537554e-05  7.94537554e-05  1.98634389e-05  1.98634389e-05\n",
      "  1.98634389e-05  1.98634389e-05  1.98634389e-05  1.98634389e-05\n",
      "  1.98634389e-05  1.98634389e-05  1.98634389e-05  1.98634389e-05\n",
      "  1.98634389e-05  1.98634389e-05  1.98634389e-05  1.98634389e-05\n",
      "  1.98634389e-05  1.98634389e-05  1.98634389e-05  1.98634389e-05\n",
      "  1.98634389e-05  1.98634389e-05  1.98634389e-05  1.98634389e-05\n",
      "  1.98634389e-05  1.98634389e-05  1.98634389e-05  1.98634389e-05\n",
      "  1.98634389e-05  1.98634389e-05  1.98634389e-05  1.98634389e-05\n",
      "  1.98634389e-05  1.98634389e-05  1.98634389e-05  1.98634389e-05\n",
      "  1.98634389e-05  1.98634389e-05  1.98634389e-05  1.98634389e-05\n",
      "  1.98634389e-05  1.98634389e-05  1.98634389e-05  1.98634389e-05\n",
      "  1.98634389e-05  1.98634389e-05  1.98634389e-05  4.96585971e-06\n",
      "  4.96585971e-06  4.96585971e-06  4.96585971e-06  4.96585971e-06\n",
      "  4.96585971e-06  4.96585971e-06  4.96585971e-06  4.96585971e-06\n",
      "  4.96585971e-06  4.96585971e-06  4.96585971e-06  4.96585971e-06\n",
      "  4.96585971e-06  4.96585971e-06  4.96585971e-06  4.96585971e-06\n",
      "  4.96585971e-06  4.96585971e-06  4.96585971e-06  4.96585971e-06\n",
      "  4.96585971e-06  4.96585971e-06  4.96585971e-06  4.96585971e-06\n",
      "  4.96585971e-06  4.96585971e-06  4.96585971e-06  4.96585971e-06\n",
      "  4.96585971e-06  4.96585971e-06  4.96585971e-06  4.96585971e-06\n",
      "  4.96585971e-06  4.96585971e-06  4.96585971e-06  4.96585971e-06\n",
      "  4.96585971e-06  4.96585971e-06  4.96585971e-06  4.96585971e-06\n",
      "  4.96585971e-06  4.96585971e-06  4.96585971e-06  4.96585971e-06]\n"
     ]
    },
    {
     "data": {
      "text/plain": [
       "[<matplotlib.lines.Line2D at 0x2bea5d39c10>]"
      ]
     },
     "execution_count": 11,
     "metadata": {},
     "output_type": "execute_result"
    },
    {
     "data": {
      "image/png": "[encoded data removed]",
      "text/plain": [
       "<Figure size 432x288 with 1 Axes>"
      ]
     },
     "metadata": {
      "needs_background": "light"
     },
     "output_type": "display_data"
    }
   ],
   "source": [
    "# using 180 bins instead of 181\n",
    "# ast code same as one cell above\n",
    "all_angles3, step3 = np.linspace(-89.5, 89.5, 180, retstep=True)\n",
    "all_angles3 = np.deg2rad(all_angles3)\n",
    "ast_pdf3 = wave_pdf(all_angles3) * np.deg2rad(step3)\n",
    "print(\"m_step:\", m_step, \" degrees\")\n",
    "print(\"lexi_step:\", step3, \" degrees\")\n",
    "print(master_pdf-ast_pdf3)\n",
    "plt.plot(master_pdf)\n",
    "plt.plot(ast_pdf3, linestyle=\"dashed\")"
   ]
  },
  {
   "cell_type": "code",
   "execution_count": 30,
   "id": "83d4d474",
   "metadata": {},
   "outputs": [
    {
     "name": "stdout",
     "output_type": "stream",
     "text": [
      "True\n"
     ]
    }
   ],
   "source": [
    "# AST master Brie comparisons\n",
    "brie._angle_array, brie_step = np.linspace(\n",
    "            -90.0, 90.0, brie._wave_climl, retstep=True\n",
    "        )  # array of resolution angles for wave climate [radians]\n",
    "brie._angle_array = np.deg2rad(\n",
    "    brie._angle_array\n",
    ")\n",
    "all_angles, step = np.linspace(-np.pi / 2.0, np.pi / 2.0, 180, retstep=True)\n",
    "\n",
    "if brie._angle_array == pytest.approx(all_angles):\n",
    "    print(\"True\")"
   ]
  },
  {
   "cell_type": "code",
   "execution_count": 34,
   "id": "0d530030",
   "metadata": {},
   "outputs": [
    {
     "name": "stdout",
     "output_type": "stream",
     "text": [
      "False\n"
     ]
    }
   ],
   "source": [
    "wave_pdf = brie._angles.pdf(brie._angle_array) * np.deg2rad(brie_step)\n",
    "e_phi_0 = lexi_brie._wave_dist.pdf(all_angles) * step\n",
    "if wave_pdf == pytest.approx(e_phi_0):\n",
    "    print(\"True\")\n",
    "else:\n",
    "    print(\"False\")"
   ]
  }
 ],
 "metadata": {
  "kernelspec": {
   "display_name": "Python 3 (ipykernel)",
   "language": "python",
   "name": "python3"
  },
  "language_info": {
   "codemirror_mode": {
    "name": "ipython",
    "version": 3
   },
   "file_extension": ".py",
   "mimetype": "text/x-python",
   "name": "python",
   "nbconvert_exporter": "python",
   "pygments_lexer": "ipython3",
   "version": "3.8.8"
  }
 },
 "nbformat": 4,
 "nbformat_minor": 5
}
